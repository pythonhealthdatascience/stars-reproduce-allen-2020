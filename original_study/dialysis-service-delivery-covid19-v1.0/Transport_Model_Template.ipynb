{
 "cells": [
  {
   "cell_type": "markdown",
   "metadata": {},
   "source": [
    "# Patient Transport Modelling\n",
    "\n",
    "This notebook provides an overview and instructions to run the patient transport model and explore results.\n",
    "\n",
    "## Aims of the modelling\n",
    "\n",
    "The model can be used to explore the impact of increasing transport vehicle (e.g. an ambulance) capacity on the total one-way travel time  needed.  We estimate two-way travel time via a simplification: doubling the one-way travel time.\n",
    "\n",
    "**Please note that**:\n",
    "\n",
    "* The modelling is not intended to provide guidance on the number of vehicles needed.    \n",
    "* Travel time excludes vehicle turnaround time after each trip, duration of pickup and breaks rests for drivers.  \n"
   ]
  },
  {
   "cell_type": "code",
   "execution_count": 1,
   "metadata": {},
   "outputs": [],
   "source": [
    "import numpy as np\n",
    "import pandas as pd\n",
    "import matplotlib.pyplot as plt"
   ]
  },
  {
   "cell_type": "markdown",
   "metadata": {},
   "source": [
    "## The VRP package\n",
    "\n",
    "The python `VRP` package provides functions and classes to:\n",
    "\n",
    "* Generate a simple weighted sample of a patient population spread over a geographic area.\n",
    "* Construct multiple short (but not necessarily optimal) routes for transport vehicles, with a given capacity, to travel to each patient from a 'treatment facility' and return.\n",
    "* Quickly generate a large dataset of samples through parallel simulation."
   ]
  },
  {
   "cell_type": "markdown",
   "metadata": {},
   "source": [
    "### Geospatial and travel time data\n",
    "\n",
    "The first step in parameterising a model is to load the input data files\n",
    "\n",
    "* Patient count by postcode sector\n",
    "* Travel times between each postcode sector\n",
    "\n",
    "The data used in the analysis can be done access via functions in the module\n",
    "\n",
    "```python\n",
    "vrp.io\n",
    "```\n",
    "\n",
    "Note the example here uses travel time.  But travel distance could also be used."
   ]
  },
  {
   "cell_type": "code",
   "execution_count": 2,
   "metadata": {},
   "outputs": [],
   "source": [
    "from vrp.io import (load_patient_postcode_count, \n",
    "                    load_travel_time)"
   ]
  },
  {
   "cell_type": "code",
   "execution_count": 3,
   "metadata": {},
   "outputs": [],
   "source": [
    "cost_matrix = load_travel_time()\n",
    "sector_counts = load_patient_postcode_count()"
   ]
  },
  {
   "cell_type": "markdown",
   "metadata": {},
   "source": [
    "These functions each return a `pandas.DataFrame`"
   ]
  },
  {
   "cell_type": "code",
   "execution_count": 4,
   "metadata": {},
   "outputs": [
    {
     "data": {
      "text/plain": [
       "pandas.core.frame.DataFrame"
      ]
     },
     "execution_count": 4,
     "metadata": {},
     "output_type": "execute_result"
    }
   ],
   "source": [
    "type(cost_matrix)"
   ]
  },
  {
   "cell_type": "code",
   "execution_count": 5,
   "metadata": {},
   "outputs": [
    {
     "data": {
      "text/plain": [
       "(262, 262)"
      ]
     },
     "execution_count": 5,
     "metadata": {},
     "output_type": "execute_result"
    }
   ],
   "source": [
    "cost_matrix.shape"
   ]
  },
  {
   "cell_type": "code",
   "execution_count": 6,
   "metadata": {},
   "outputs": [
    {
     "data": {
      "text/plain": [
       "pandas.core.frame.DataFrame"
      ]
     },
     "execution_count": 6,
     "metadata": {},
     "output_type": "execute_result"
    }
   ],
   "source": [
    "type(sector_counts)"
   ]
  },
  {
   "cell_type": "code",
   "execution_count": 7,
   "metadata": {},
   "outputs": [
    {
     "data": {
      "text/html": [
       "<div>\n",
       "<style scoped>\n",
       "    .dataframe tbody tr th:only-of-type {\n",
       "        vertical-align: middle;\n",
       "    }\n",
       "\n",
       "    .dataframe tbody tr th {\n",
       "        vertical-align: top;\n",
       "    }\n",
       "\n",
       "    .dataframe thead th {\n",
       "        text-align: right;\n",
       "    }\n",
       "</style>\n",
       "<table border=\"1\" class=\"dataframe\">\n",
       "  <thead>\n",
       "    <tr style=\"text-align: right;\">\n",
       "      <th></th>\n",
       "      <th>count</th>\n",
       "    </tr>\n",
       "    <tr>\n",
       "      <th>sector</th>\n",
       "      <th></th>\n",
       "    </tr>\n",
       "  </thead>\n",
       "  <tbody>\n",
       "    <tr>\n",
       "      <th>L151</th>\n",
       "      <td>1</td>\n",
       "    </tr>\n",
       "    <tr>\n",
       "      <th>L91</th>\n",
       "      <td>2</td>\n",
       "    </tr>\n",
       "    <tr>\n",
       "      <th>L31</th>\n",
       "      <td>1</td>\n",
       "    </tr>\n",
       "  </tbody>\n",
       "</table>\n",
       "</div>"
      ],
      "text/plain": [
       "        count\n",
       "sector       \n",
       "L151        1\n",
       "L91         2\n",
       "L31         1"
      ]
     },
     "execution_count": 7,
     "metadata": {},
     "output_type": "execute_result"
    }
   ],
   "source": [
    "sector_counts.head(3)"
   ]
  },
  {
   "cell_type": "markdown",
   "metadata": {},
   "source": [
    "### Built-in preprocessing\n",
    "\n",
    "To convert a distribution of patient counts by postcodes to proportions use the following function "
   ]
  },
  {
   "cell_type": "code",
   "execution_count": 8,
   "metadata": {},
   "outputs": [],
   "source": [
    "from vrp.sim import create_postcode_distribution"
   ]
  },
  {
   "cell_type": "code",
   "execution_count": 9,
   "metadata": {},
   "outputs": [],
   "source": [
    "postcode_distribution = create_postcode_distribution(sector_counts)"
   ]
  },
  {
   "cell_type": "code",
   "execution_count": 10,
   "metadata": {},
   "outputs": [
    {
     "data": {
      "text/plain": [
       "pandas.core.frame.DataFrame"
      ]
     },
     "execution_count": 10,
     "metadata": {},
     "output_type": "execute_result"
    }
   ],
   "source": [
    "type(postcode_distribution)"
   ]
  },
  {
   "cell_type": "code",
   "execution_count": 11,
   "metadata": {},
   "outputs": [
    {
     "data": {
      "text/html": [
       "<div>\n",
       "<style scoped>\n",
       "    .dataframe tbody tr th:only-of-type {\n",
       "        vertical-align: middle;\n",
       "    }\n",
       "\n",
       "    .dataframe tbody tr th {\n",
       "        vertical-align: top;\n",
       "    }\n",
       "\n",
       "    .dataframe thead th {\n",
       "        text-align: right;\n",
       "    }\n",
       "</style>\n",
       "<table border=\"1\" class=\"dataframe\">\n",
       "  <thead>\n",
       "    <tr style=\"text-align: right;\">\n",
       "      <th></th>\n",
       "      <th>count</th>\n",
       "      <th>prob</th>\n",
       "    </tr>\n",
       "    <tr>\n",
       "      <th>sector</th>\n",
       "      <th></th>\n",
       "      <th></th>\n",
       "    </tr>\n",
       "  </thead>\n",
       "  <tbody>\n",
       "    <tr>\n",
       "      <th>L151</th>\n",
       "      <td>1</td>\n",
       "      <td>0.001919</td>\n",
       "    </tr>\n",
       "    <tr>\n",
       "      <th>L91</th>\n",
       "      <td>2</td>\n",
       "      <td>0.003839</td>\n",
       "    </tr>\n",
       "    <tr>\n",
       "      <th>L31</th>\n",
       "      <td>1</td>\n",
       "      <td>0.001919</td>\n",
       "    </tr>\n",
       "  </tbody>\n",
       "</table>\n",
       "</div>"
      ],
      "text/plain": [
       "        count      prob\n",
       "sector                 \n",
       "L151        1  0.001919\n",
       "L91         2  0.003839\n",
       "L31         1  0.001919"
      ]
     },
     "execution_count": 11,
     "metadata": {},
     "output_type": "execute_result"
    }
   ],
   "source": [
    "postcode_distribution.head(3)"
   ]
  },
  {
   "cell_type": "markdown",
   "metadata": {},
   "source": [
    "### Running a transport experiment and exploring results\n",
    "\n",
    "This can be done via six classes representing an simulated experiment, a scenario and a vehicle routing solvers.\n",
    "\n",
    "```python\n",
    "vrp.sim.TransportExperiment\n",
    "vrp.sim.Scenario\n",
    "vrp.sim.ILSWithConstructive\n",
    "vrp.constructive.SequentialClarkeWright\n",
    "vrp.sim.MultipleReplicationRunner\n",
    "vrp.sim.ScenarioManager\n",
    "```\n",
    "`TransportExperiment` is a stochastic model.  It generates a sample of the patient population to transport and then creates routes for patient transport services to use.\n",
    "\n",
    "`Scenario` is a python `dataclass`.  It is used to set the parameters for the simulation and passed to a `TransportExperiment`\n",
    "\n",
    "`ILSWithConstructive` is a class that combines a simple constructive heuristic with Iterated Local Search\n",
    "\n",
    "`SequentialClarkeWright` is a constructive heuristic based for building transport routes based on the Clarke-Wright Savings algorithm.\n",
    "\n",
    "`MultipleReplicationRunner` allows a user to run multiple parallel replications of a simulation experiment.\n",
    "\n",
    "`ScenarioManager` allows a user to run multiple parallel replications of multiple scenarios\n",
    "\n",
    "#### **Step 1: create a scenario**\n",
    "\n",
    "A `Scenario` accepts the following arguments\n",
    "\n",
    "* n_patients: int, the number of patients to sample.\n",
    "* warehouse: str or int, the location of the depot/warehouse/facility where the vehicles start and end their trips.\n",
    "* vehicle_capacities: list, e.g [2, 3, 4].  \n",
    "* cost_matrix: pandas.DataFrame, A travel distance or travel time matrix between all locations.\n",
    "* postcode_distribution: pandas.DataFrame, the distribution of patients by postcode.\n",
    "* p_positive: float, the probability a sampled patient is positive \n",
    "* p_transport: float, the probability a sampled patient required transport"
   ]
  },
  {
   "cell_type": "code",
   "execution_count": 12,
   "metadata": {},
   "outputs": [],
   "source": [
    "#import the Scenario data class\n",
    "from vrp.sim import Scenario"
   ]
  },
  {
   "cell_type": "code",
   "execution_count": 13,
   "metadata": {},
   "outputs": [],
   "source": [
    "HOSP_LOCATION = 'L51'\n",
    "N_PATIENTS = 15\n",
    "CAPACITIES = [2, 3, 4]\n",
    "P_POS = 1.0\n",
    "P_TRAN = 1.0\n",
    "\n",
    "#sim parameters\n",
    "scenario_15 = Scenario(n_patients=N_PATIENTS,\n",
    "                       warehouse=HOSP_LOCATION,\n",
    "                       vehicle_capacities=CAPACITIES,\n",
    "                       cost_matrix = cost_matrix,\n",
    "                       postcode_distribution=postcode_distribution,\n",
    "                       p_positive=P_POS, \n",
    "                       p_transport=P_TRAN)"
   ]
  },
  {
   "cell_type": "markdown",
   "metadata": {},
   "source": [
    "#### **Step 2: create a Vehicle Routing Solver**"
   ]
  },
  {
   "cell_type": "code",
   "execution_count": 14,
   "metadata": {},
   "outputs": [],
   "source": [
    "#import the Clark-Wright Savings euristic and ILS/Constructive wrapper classes\n",
    "from vrp.constructive import SequentialClarkeWright\n",
    "from vrp.sim import ILSWithConstructive"
   ]
  },
  {
   "cell_type": "code",
   "execution_count": 15,
   "metadata": {},
   "outputs": [],
   "source": [
    "N_ITER = 20\n",
    "solver = ILSWithConstructive(constructive=SequentialClarkeWright(HOSP_LOCATION),\n",
    "                             warehouse=HOSP_LOCATION, \n",
    "                             iterations=N_ITER)"
   ]
  },
  {
   "cell_type": "markdown",
   "metadata": {},
   "source": [
    "#### **Step 3: Create a transport experiment**"
   ]
  },
  {
   "cell_type": "code",
   "execution_count": 16,
   "metadata": {},
   "outputs": [],
   "source": [
    "#import the TransportExperiment class\n",
    "from vrp.sim import TransportExperiment"
   ]
  },
  {
   "cell_type": "code",
   "execution_count": 17,
   "metadata": {},
   "outputs": [],
   "source": [
    "model = TransportExperiment(scenario=scenario_15, \n",
    "                            solver=solver)"
   ]
  },
  {
   "cell_type": "markdown",
   "metadata": {},
   "source": [
    "#### **Step 3: Test run a single experiment**\n",
    "\n",
    "This should execute in < 1 second."
   ]
  },
  {
   "cell_type": "code",
   "execution_count": 18,
   "metadata": {},
   "outputs": [],
   "source": [
    "#set random seed to get a reproducible run\n",
    "SEED = 19\n",
    "np.random.seed(SEED)\n",
    "\n",
    "result = model.single_replication()"
   ]
  },
  {
   "cell_type": "code",
   "execution_count": 19,
   "metadata": {},
   "outputs": [
    {
     "data": {
      "text/plain": [
       "{'capacity_1': 962,\n",
       " 'capacity_2': 630.0,\n",
       " 'capacity_3': 494.0,\n",
       " 'capacity_4': 463.0}"
      ]
     },
     "execution_count": 19,
     "metadata": {},
     "output_type": "execute_result"
    }
   ],
   "source": [
    "#the result is a python dict with total travel time by capacity of vehicle\n",
    "result"
   ]
  },
  {
   "cell_type": "markdown",
   "metadata": {},
   "source": [
    "#### **Step 4: Execute multiple independent replications in parallel**\n",
    "\n",
    "It will take several seconds to run 10 replications. Depending on the population size, number of ILS iterations, and number of replications runtime can vary from seconds to hours."
   ]
  },
  {
   "cell_type": "code",
   "execution_count": 20,
   "metadata": {},
   "outputs": [],
   "source": [
    "from vrp.sim import MultipleReplicationRunner"
   ]
  },
  {
   "cell_type": "code",
   "execution_count": 21,
   "metadata": {},
   "outputs": [],
   "source": [
    "runner = MultipleReplicationRunner(model=model, random_state=SEED)"
   ]
  },
  {
   "cell_type": "code",
   "execution_count": 22,
   "metadata": {},
   "outputs": [],
   "source": [
    "N_REPS = 10\n",
    "results = runner.execute(n_reps=N_REPS)"
   ]
  },
  {
   "cell_type": "code",
   "execution_count": 23,
   "metadata": {},
   "outputs": [
    {
     "data": {
      "text/plain": [
       "list"
      ]
     },
     "execution_count": 23,
     "metadata": {},
     "output_type": "execute_result"
    }
   ],
   "source": [
    "#results is a list of dicts\n",
    "type(results)"
   ]
  },
  {
   "cell_type": "code",
   "execution_count": 24,
   "metadata": {},
   "outputs": [
    {
     "data": {
      "text/plain": [
       "{'capacity_1': 974.0,\n",
       " 'capacity_2': 643.0,\n",
       " 'capacity_3': 528.0,\n",
       " 'capacity_4': 505.0}"
      ]
     },
     "execution_count": 24,
     "metadata": {},
     "output_type": "execute_result"
    }
   ],
   "source": [
    "results[0]"
   ]
  },
  {
   "cell_type": "code",
   "execution_count": 25,
   "metadata": {},
   "outputs": [],
   "source": [
    "#convert results to a pandas DataFrame\n",
    "df_results = pd.DataFrame(results)"
   ]
  },
  {
   "cell_type": "code",
   "execution_count": 26,
   "metadata": {},
   "outputs": [
    {
     "data": {
      "text/html": [
       "<div>\n",
       "<style scoped>\n",
       "    .dataframe tbody tr th:only-of-type {\n",
       "        vertical-align: middle;\n",
       "    }\n",
       "\n",
       "    .dataframe tbody tr th {\n",
       "        vertical-align: top;\n",
       "    }\n",
       "\n",
       "    .dataframe thead th {\n",
       "        text-align: right;\n",
       "    }\n",
       "</style>\n",
       "<table border=\"1\" class=\"dataframe\">\n",
       "  <thead>\n",
       "    <tr style=\"text-align: right;\">\n",
       "      <th></th>\n",
       "      <th>capacity_1</th>\n",
       "      <th>capacity_2</th>\n",
       "      <th>capacity_3</th>\n",
       "      <th>capacity_4</th>\n",
       "    </tr>\n",
       "  </thead>\n",
       "  <tbody>\n",
       "    <tr>\n",
       "      <th>0</th>\n",
       "      <td>974.0</td>\n",
       "      <td>643.0</td>\n",
       "      <td>528.0</td>\n",
       "      <td>505.0</td>\n",
       "    </tr>\n",
       "    <tr>\n",
       "      <th>1</th>\n",
       "      <td>1140.0</td>\n",
       "      <td>707.0</td>\n",
       "      <td>613.0</td>\n",
       "      <td>492.0</td>\n",
       "    </tr>\n",
       "    <tr>\n",
       "      <th>2</th>\n",
       "      <td>712.0</td>\n",
       "      <td>505.0</td>\n",
       "      <td>411.0</td>\n",
       "      <td>393.0</td>\n",
       "    </tr>\n",
       "  </tbody>\n",
       "</table>\n",
       "</div>"
      ],
      "text/plain": [
       "   capacity_1  capacity_2  capacity_3  capacity_4\n",
       "0       974.0       643.0       528.0       505.0\n",
       "1      1140.0       707.0       613.0       492.0\n",
       "2       712.0       505.0       411.0       393.0"
      ]
     },
     "execution_count": 26,
     "metadata": {},
     "output_type": "execute_result"
    }
   ],
   "source": [
    "df_results.head(3)"
   ]
  },
  {
   "cell_type": "code",
   "execution_count": 27,
   "metadata": {},
   "outputs": [
    {
     "data": {
      "text/plain": [
       "<matplotlib.axes._subplots.AxesSubplot at 0x7f54c1ab26d0>"
      ]
     },
     "execution_count": 27,
     "metadata": {},
     "output_type": "execute_result"
    },
    {
     "data": {
      "image/png": "[encoded data removed]",
      "text/plain": [
       "<Figure size 864x360 with 1 Axes>"
      ]
     },
     "metadata": {
      "needs_background": "light"
     },
     "output_type": "display_data"
    }
   ],
   "source": [
    "#y-acis is in minutes in this example, but could be travel distance\n",
    "df_results.boxplot(figsize=(12,5))"
   ]
  },
  {
   "cell_type": "markdown",
   "metadata": {},
   "source": [
    "#### **Step 5: Analyse multiple scenarios**\n",
    "\n",
    "First create multiple scenario objects"
   ]
  },
  {
   "cell_type": "code",
   "execution_count": 28,
   "metadata": {},
   "outputs": [],
   "source": [
    "HOSP_LOCATION = 'L51'\n",
    "CAPACITIES = [2, 3, 4]\n",
    "P_POS = 1.0\n",
    "P_TRAN = 1.0\n",
    "\n",
    "#scenario where 15 patients are positive on a day\n",
    "scenario_15 = Scenario(n_patients=15,\n",
    "                       warehouse=HOSP_LOCATION,\n",
    "                       vehicle_capacities=CAPACITIES,\n",
    "                       cost_matrix = cost_matrix,\n",
    "                       postcode_distribution=postcode_distribution,\n",
    "                       p_positive=P_POS, \n",
    "                       p_transport=P_TRAN)\n",
    "\n",
    "#scenario where 25 patients are positive on a day\n",
    "scenario_25 = Scenario(n_patients=25,\n",
    "                       warehouse=HOSP_LOCATION,\n",
    "                       vehicle_capacities=CAPACITIES,\n",
    "                       cost_matrix = cost_matrix,\n",
    "                       postcode_distribution=postcode_distribution,\n",
    "                       p_positive=P_POS, \n",
    "                       p_transport=P_TRAN)\n",
    "\n",
    "#store these in a dict\n",
    "scenarios = {}\n",
    "scenarios['15_covid_positive'] = scenario_15\n",
    "scenarios['25_covid_positive'] = scenario_25"
   ]
  },
  {
   "cell_type": "code",
   "execution_count": 29,
   "metadata": {},
   "outputs": [],
   "source": [
    "#create a sce\n",
    "from vrp.sim import ScenarioManager"
   ]
  },
  {
   "cell_type": "code",
   "execution_count": 30,
   "metadata": {},
   "outputs": [],
   "source": [
    "SEED = 999\n",
    "manager = ScenarioManager(scenarios, solver, random_state=SEED)"
   ]
  },
  {
   "cell_type": "code",
   "execution_count": 31,
   "metadata": {},
   "outputs": [
    {
     "name": "stdout",
     "output_type": "stream",
     "text": [
      "Running scenario: 15_covid_positive... done.\n",
      "Running scenario: 25_covid_positive... done.\n",
      "All experiments completed.\n"
     ]
    }
   ],
   "source": [
    "scenario_results = manager.execute(N_REPS)"
   ]
  },
  {
   "cell_type": "code",
   "execution_count": 32,
   "metadata": {},
   "outputs": [
    {
     "data": {
      "image/png": "[encoded data removed]",
      "text/plain": [
       "<Figure size 864x360 with 2 Axes>"
      ]
     },
     "metadata": {
      "needs_background": "light"
     },
     "output_type": "display_data"
    }
   ],
   "source": [
    "#plot multiple scenarios in one figure\n",
    "fig, ax = plt.subplots(1, 2, figsize=(12,5), sharey=True)\n",
    "index = 0\n",
    "for scenario_name, result in scenario_results.items():\n",
    "    result.boxplot(ax=ax[index])\n",
    "    ax[index].set_title(scenario_name)\n",
    "    index += 1\n",
    "    \n",
    "ax[0].set_ylabel('Travel Time (mins)');\n",
    "\n",
    "#uncomment to save to file...\n",
    "#fig.savefig('scenario_boxplots.png', dpi=300)"
   ]
  },
  {
   "cell_type": "code",
   "execution_count": 33,
   "metadata": {},
   "outputs": [
    {
     "data": {
      "text/html": [
       "<div>\n",
       "<style scoped>\n",
       "    .dataframe tbody tr th:only-of-type {\n",
       "        vertical-align: middle;\n",
       "    }\n",
       "\n",
       "    .dataframe tbody tr th {\n",
       "        vertical-align: top;\n",
       "    }\n",
       "\n",
       "    .dataframe thead th {\n",
       "        text-align: right;\n",
       "    }\n",
       "</style>\n",
       "<table border=\"1\" class=\"dataframe\">\n",
       "  <thead>\n",
       "    <tr style=\"text-align: right;\">\n",
       "      <th></th>\n",
       "      <th>capacity_1</th>\n",
       "      <th>capacity_2</th>\n",
       "      <th>capacity_3</th>\n",
       "      <th>capacity_4</th>\n",
       "    </tr>\n",
       "  </thead>\n",
       "  <tbody>\n",
       "    <tr>\n",
       "      <th>0</th>\n",
       "      <td>1306.0</td>\n",
       "      <td>834.0</td>\n",
       "      <td>681.0</td>\n",
       "      <td>586.0</td>\n",
       "    </tr>\n",
       "    <tr>\n",
       "      <th>1</th>\n",
       "      <td>1562.0</td>\n",
       "      <td>976.0</td>\n",
       "      <td>771.0</td>\n",
       "      <td>706.0</td>\n",
       "    </tr>\n",
       "    <tr>\n",
       "      <th>2</th>\n",
       "      <td>1618.0</td>\n",
       "      <td>1059.0</td>\n",
       "      <td>868.0</td>\n",
       "      <td>750.0</td>\n",
       "    </tr>\n",
       "    <tr>\n",
       "      <th>3</th>\n",
       "      <td>1896.0</td>\n",
       "      <td>1175.0</td>\n",
       "      <td>883.0</td>\n",
       "      <td>799.0</td>\n",
       "    </tr>\n",
       "    <tr>\n",
       "      <th>4</th>\n",
       "      <td>1756.0</td>\n",
       "      <td>1027.0</td>\n",
       "      <td>827.0</td>\n",
       "      <td>724.0</td>\n",
       "    </tr>\n",
       "    <tr>\n",
       "      <th>5</th>\n",
       "      <td>1250.0</td>\n",
       "      <td>798.0</td>\n",
       "      <td>618.0</td>\n",
       "      <td>571.0</td>\n",
       "    </tr>\n",
       "    <tr>\n",
       "      <th>6</th>\n",
       "      <td>1732.0</td>\n",
       "      <td>1095.0</td>\n",
       "      <td>921.0</td>\n",
       "      <td>854.0</td>\n",
       "    </tr>\n",
       "    <tr>\n",
       "      <th>7</th>\n",
       "      <td>1972.0</td>\n",
       "      <td>1201.0</td>\n",
       "      <td>966.0</td>\n",
       "      <td>870.0</td>\n",
       "    </tr>\n",
       "    <tr>\n",
       "      <th>8</th>\n",
       "      <td>1514.0</td>\n",
       "      <td>942.0</td>\n",
       "      <td>720.0</td>\n",
       "      <td>661.0</td>\n",
       "    </tr>\n",
       "    <tr>\n",
       "      <th>9</th>\n",
       "      <td>1150.0</td>\n",
       "      <td>784.0</td>\n",
       "      <td>681.0</td>\n",
       "      <td>619.0</td>\n",
       "    </tr>\n",
       "  </tbody>\n",
       "</table>\n",
       "</div>"
      ],
      "text/plain": [
       "   capacity_1  capacity_2  capacity_3  capacity_4\n",
       "0      1306.0       834.0       681.0       586.0\n",
       "1      1562.0       976.0       771.0       706.0\n",
       "2      1618.0      1059.0       868.0       750.0\n",
       "3      1896.0      1175.0       883.0       799.0\n",
       "4      1756.0      1027.0       827.0       724.0\n",
       "5      1250.0       798.0       618.0       571.0\n",
       "6      1732.0      1095.0       921.0       854.0\n",
       "7      1972.0      1201.0       966.0       870.0\n",
       "8      1514.0       942.0       720.0       661.0\n",
       "9      1150.0       784.0       681.0       619.0"
      ]
     },
     "execution_count": 33,
     "metadata": {},
     "output_type": "execute_result"
    }
   ],
   "source": [
    "#access one of the scenarios\n",
    "scenario_results['25_covid_positive']\n",
    "\n",
    "#uncomment to save results to file\n",
    "#scenario_results['25_covid_positive'].to_csv('single_scenario_result.csv')"
   ]
  },
  {
   "cell_type": "code",
   "execution_count": 34,
   "metadata": {},
   "outputs": [
    {
     "data": {
      "text/plain": [
       "<matplotlib.axes._subplots.AxesSubplot at 0x7f54c1137be0>"
      ]
     },
     "execution_count": 34,
     "metadata": {},
     "output_type": "execute_result"
    },
    {
     "data": {
      "image/png": "[encoded data removed]",
      "text/plain": [
       "<Figure size 864x360 with 1 Axes>"
      ]
     },
     "metadata": {
      "needs_background": "light"
     },
     "output_type": "display_data"
    }
   ],
   "source": [
    "### Doubling travel times\n",
    "two_way = scenario_results['25_covid_positive'] * 2\n",
    "two_way.boxplot(figsize=(12,5))"
   ]
  }
 ],
 "metadata": {
  "kernelspec": {
   "display_name": "Python 3",
   "language": "python",
   "name": "python3"
  },
  "language_info": {
   "codemirror_mode": {
    "name": "ipython",
    "version": 3
   },
   "file_extension": ".py",
   "mimetype": "text/x-python",
   "name": "python",
   "nbconvert_exporter": "python",
   "pygments_lexer": "ipython3",
   "version": "3.8.1"
  }
 },
 "nbformat": 4,
 "nbformat_minor": 4
}
